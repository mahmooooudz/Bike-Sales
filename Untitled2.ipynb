{
  "nbformat": 4,
  "nbformat_minor": 0,
  "metadata": {
    "colab": {
      "provenance": [],
      "authorship_tag": "ABX9TyNuXxm8oo6v2NZB408R6B7r",
      "include_colab_link": true
    },
    "kernelspec": {
      "name": "python3",
      "display_name": "Python 3"
    },
    "language_info": {
      "name": "python"
    }
  },
  "cells": [
    {
      "cell_type": "markdown",
      "metadata": {
        "id": "view-in-github",
        "colab_type": "text"
      },
      "source": [
        "<a href=\"https://colab.research.google.com/github/mahmooooudz/Bike-Sales/blob/main/Untitled2.ipynb\" target=\"_parent\"><img src=\"https://colab.research.google.com/assets/colab-badge.svg\" alt=\"Open In Colab\"/></a>"
      ]
    },
    {
      "cell_type": "code",
      "execution_count": null,
      "metadata": {
        "id": "z4i54avTvpnP"
      },
      "outputs": [],
      "source": [
        "x = 5\n",
        "y = 3.14\n",
        "name = \"Mahmoud\"\n",
        "is_admin = True"
      ]
    },
    {
      "cell_type": "code",
      "source": [
        "print(x)\n",
        "print(y)\n",
        "print(name)\n",
        "print(is_admin)\n",
        "print(x, y, name, is_admin)"
      ],
      "metadata": {
        "colab": {
          "base_uri": "https://localhost:8080/"
        },
        "id": "ZxeqAloazml2",
        "outputId": "c73d526d-12ae-4f03-a20f-1466e7aa50f8"
      },
      "execution_count": null,
      "outputs": [
        {
          "output_type": "stream",
          "name": "stdout",
          "text": [
            "5\n",
            "3.14\n",
            "Mahmoud\n",
            "True\n",
            "5 3.14 Mahmoud True\n"
          ]
        }
      ]
    }
  ]
}